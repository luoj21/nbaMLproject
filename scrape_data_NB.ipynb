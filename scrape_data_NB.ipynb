{
 "cells": [
  {
   "cell_type": "code",
   "execution_count": 2,
   "metadata": {},
   "outputs": [],
   "source": [
    "import numpy as np \n",
    "import pandas as pd\n",
    "import requests\n",
    "import time\n",
    "from urllib.request import urlopen\n",
    "from bs4 import BeautifulSoup"
   ]
  },
  {
   "cell_type": "code",
   "execution_count": 29,
   "metadata": {},
   "outputs": [],
   "source": [
    "# Just for one season\n",
    "url = \"http://www.basketball-reference.com/leagues/NBA_2022_per_game.html\"\n",
    "response = requests.get(url) #make to many requests and you might get blocked lol\n",
    "soup = BeautifulSoup(response.content, 'html.parser')"
   ]
  },
  {
   "cell_type": "code",
   "execution_count": 36,
   "metadata": {
    "scrolled": true
   },
   "outputs": [],
   "source": [
    "data = soup.find(id = \"per_game_stats\")\n",
    "data_df = pd.concat(pd.read_html(str(data)))"
   ]
  },
  {
   "cell_type": "code",
   "execution_count": 2,
   "metadata": {},
   "outputs": [],
   "source": [
    "# For multiple seasons\n",
    "years = list(range(1999, 2025))\n",
    "\n",
    "for year in years:\n",
    "    url = f'https://www.basketball-reference.com/leagues/NBA_{year}_per_game.html'\n",
    "    data = requests.get(url)\n",
    "    time.sleep(15)\n",
    "    \n",
    "    with open(f\"years/{year}.html\", \"w+\") as f:\n",
    "        f.write(data.text)"
   ]
  },
  {
   "cell_type": "code",
   "execution_count": null,
   "metadata": {
    "collapsed": true
   },
   "outputs": [],
   "source": [
    "all_season_data = []\n",
    "for year in years:\n",
    "    print(f'### {year} ###')\n",
    "    with open(f'years/{year}.html') as f:\n",
    "        page = f.read()\n",
    "\n",
    "    soup = BeautifulSoup(page, 'html.parser')\n",
    "    season_data = soup.find(id = \"per_game_stats\")\n",
    "    season_data_df = pd.concat(pd.read_html(str(season_data)))\n",
    "    season_data_df['season'] = year\n",
    "\n",
    "\n",
    "    all_season_data.append(season_data_df)"
   ]
  }
 ],
 "metadata": {
  "kernelspec": {
   "display_name": "Python 3 (ipykernel)",
   "language": "python",
   "name": "python3"
  },
  "language_info": {
   "codemirror_mode": {
    "name": "ipython",
    "version": 3
   },
   "file_extension": ".py",
   "mimetype": "text/x-python",
   "name": "python",
   "nbconvert_exporter": "python",
   "pygments_lexer": "ipython3",
   "version": "3.10.5"
  }
 },
 "nbformat": 4,
 "nbformat_minor": 2
}
