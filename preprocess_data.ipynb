{
 "cells": [
  {
   "cell_type": "code",
   "execution_count": 2,
   "metadata": {},
   "outputs": [],
   "source": [
    "import numpy as np\n",
    "import pandas as pd\n",
    "import matplotlib.pyplot as plt\n",
    "import matplotlib as mpl\n",
    "import seaborn as sns\n",
    "import os\n",
    "import re\n",
    "from scrape_player_data import request_stats_data, export_salary_data, export_stats_data, request_income_data, check_player_duplicates\n",
    "from setup_database import MySQLConnector\n",
    "from collections import Counter"
   ]
  },
  {
   "cell_type": "code",
   "execution_count": 3,
   "metadata": {},
   "outputs": [
    {
     "name": "stdout",
     "output_type": "stream",
     "text": [
      "### EXPORTING FOR SEASON 2001 ###\n",
      "### EXPORTING FOR SEASON 2002 ###\n",
      "### EXPORTING FOR SEASON 2003 ###\n",
      "### EXPORTING FOR SEASON 2004 ###\n",
      "### EXPORTING FOR SEASON 2005 ###\n",
      "### EXPORTING FOR SEASON 2006 ###\n",
      "### EXPORTING FOR SEASON 2007 ###\n",
      "### EXPORTING FOR SEASON 2008 ###\n",
      "### EXPORTING FOR SEASON 2009 ###\n",
      "### EXPORTING FOR SEASON 2010 ###\n",
      "### EXPORTING FOR SEASON 2011 ###\n",
      "### EXPORTING FOR SEASON 2012 ###\n",
      "### EXPORTING FOR SEASON 2013 ###\n",
      "### EXPORTING FOR SEASON 2014 ###\n",
      "['Tony Mitchell']\n",
      "### EXPORTING FOR SEASON 2015 ###\n",
      "### EXPORTING FOR SEASON 2016 ###\n",
      "### EXPORTING FOR SEASON 2017 ###\n",
      "### EXPORTING FOR SEASON 2018 ###\n",
      "### EXPORTING FOR SEASON 2019 ###\n",
      "### EXPORTING FOR SEASON 2020 ###\n",
      "### EXPORTING FOR SEASON 2021 ###\n",
      "### EXPORTING FOR SEASON 2022 ###\n",
      "### EXPORTING FOR SEASON 2023 ###\n",
      "### EXPORTING FOR SEASON 2024 ###\n"
     ]
    }
   ],
   "source": [
    "for i in range(2001, 2025):\n",
    "    print(f'### EXPORTING FOR SEASON {i} ###')\n",
    "    export_salary_data(i)\n",
    "    export_stats_data(i)\n",
    "\n",
    "    dat = pd.read_csv(f'player_season_income/{i}_income_data.csv')\n",
    "    check_player_duplicates(df = dat)\n"
   ]
  },
  {
   "attachments": {},
   "cell_type": "markdown",
   "metadata": {},
   "source": [
    "### Data pre-processing"
   ]
  },
  {
   "cell_type": "code",
   "execution_count": 4,
   "metadata": {},
   "outputs": [],
   "source": [
    "# Removes special characters except space (' ')\n",
    "def remove_special_characters(text):\n",
    "    return re.sub(r'[^\\w\\s]', '', text)"
   ]
  },
  {
   "attachments": {},
   "cell_type": "markdown",
   "metadata": {},
   "source": [
    "Cleaning income data"
   ]
  },
  {
   "cell_type": "code",
   "execution_count": 5,
   "metadata": {},
   "outputs": [],
   "source": [
    "dfs = []\n",
    "for year in range(2001, 2025):\n",
    "    df = pd.read_csv(f'player_season_income/{year}_income_data.csv')\n",
    "\n",
    "    # Dropping duplicate tony mitchell\n",
    "    if year == 2014:\n",
    "        TM_index = df.index[df['Player'] == \"Tony Mitchell\"].tolist()\n",
    "        df.drop(max(TM_index), inplace = True)\n",
    "        check_player_duplicates(df)\n",
    "\n",
    "    dfs.append(df)\n",
    "\n",
    "all_seasons_income = pd.concat(dfs)\n",
    "all_seasons_income['Player'] = all_seasons_income['Player'].apply(remove_special_characters)"
   ]
  },
  {
   "cell_type": "code",
   "execution_count": 6,
   "metadata": {},
   "outputs": [],
   "source": [
    "# Assigning a player_id to each unique player in all the data\n",
    "all_players = pd.unique(all_seasons_income['Player'])\n",
    "players_dict = {key: None for key in all_players}\n",
    "\n",
    "for i in range(0, len(players_dict)):\n",
    "    players_dict[all_players[i]] = i + 1\n",
    "\n",
    "# Maps unique id\n",
    "all_seasons_income['player_id'] = all_seasons_income['Player'].map(players_dict)\n",
    "all_seasons_income.drop(columns = ['Player'], inplace = True)\n",
    "all_seasons_income.insert(0, 'player_id', all_seasons_income.pop('player_id'))\n",
    "all_seasons_income.insert(1, 'season', all_seasons_income.pop('season'))\n",
    "\n",
    "del dfs"
   ]
  },
  {
   "attachments": {},
   "cell_type": "markdown",
   "metadata": {},
   "source": [
    "Creating players data"
   ]
  },
  {
   "cell_type": "code",
   "execution_count": 7,
   "metadata": {},
   "outputs": [],
   "source": [
    "# Creating data set with player_ids and player name for all distinct players\n",
    "all_players_df = pd.DataFrame(all_players, columns=[\"Player\"])\n",
    "all_players_df['player_id'] = all_players_df['Player'].map(players_dict)\n",
    "all_players_df.insert(0, 'player_id', all_players_df.pop('player_id'))"
   ]
  },
  {
   "attachments": {},
   "cell_type": "markdown",
   "metadata": {},
   "source": [
    "Cleaning stats data"
   ]
  },
  {
   "cell_type": "code",
   "execution_count": 8,
   "metadata": {},
   "outputs": [],
   "source": [
    "# Stats data\n",
    "dfs = []\n",
    "for year in range(2001, 2025):\n",
    "    df = pd.read_csv(f'per_game_stats_data/{year}_player_data.csv')\n",
    "    dfs.append(df)\n",
    "\n",
    "all_stats = pd.concat(dfs)\n",
    "all_stats['Player'] = all_stats['Player'].apply(remove_special_characters)\n",
    "#print('Left out players: ', sorted(set(all_stats['Player']) - set(all_seasons_income['Player'])))\n",
    "\n",
    "# Maps unique id and drops rows that didn't get assigned an player_id\n",
    "all_stats['player_id'] = all_stats['Player'].map(players_dict)\n",
    "all_stats.dropna(subset=['player_id'], inplace = True)\n",
    "#all_stats = all_stats.astype({'3P%': 'float64', '2P%': 'float64', 'eFG%': 'float64', 'FG%': 'float64', 'FT%': 'float64'})"
   ]
  },
  {
   "cell_type": "code",
   "execution_count": 9,
   "metadata": {},
   "outputs": [],
   "source": [
    "# Keeps track of (season, player_id) pairs that played for multiple teams (ie players that played for more than 1 team in 1 season)\n",
    "\n",
    "multiple_teams_CPK = list(all_stats[all_stats.duplicated(subset = ['Player', 'season'], keep = False)][['season', 'player_id']].groupby(['season', 'player_id']).groups)\n",
    "#all_stats[(all_stats['player_id'] == 23) & (all_stats['season'] == 2001)]"
   ]
  },
  {
   "cell_type": "code",
   "execution_count": 10,
   "metadata": {},
   "outputs": [],
   "source": [
    "agg_functions = {key: None for key in all_stats.columns}\n",
    "del agg_functions['Player']\n",
    "del agg_functions['season']\n",
    "agg_functions.update(dict.fromkeys(['Pos', 'player_id', 'Age', 'Tm'], 'first'))\n",
    "agg_functions.update(dict.fromkeys(['G', 'GS'], 'sum'))\n",
    "agg_functions.update(dict.fromkeys(['MP', 'FG', 'FGA', 'FG%', '3P',\n",
    "       '3PA', '3P%', '2P', '2PA', '2P%', 'eFG%', 'FT', 'FTA', 'FT%', 'ORB',\n",
    "       'DRB', 'TRB', 'AST', 'STL', 'BLK', 'TOV', 'PF', 'PTS'], 'mean'))"
   ]
  },
  {
   "cell_type": "code",
   "execution_count": 11,
   "metadata": {},
   "outputs": [],
   "source": [
    "all_stats = all_stats.groupby(['Player', 'season']).aggregate(agg_functions).reset_index()\n",
    "\n",
    "for index, row in all_stats.iterrows():\n",
    "    if (row['season'], row['player_id']) in multiple_teams_CPK:\n",
    "        all_stats.loc[index, 'Tm'] = 'TOT' # TOT means played for more than 1 team in a season"
   ]
  },
  {
   "cell_type": "code",
   "execution_count": 12,
   "metadata": {},
   "outputs": [
    {
     "name": "stderr",
     "output_type": "stream",
     "text": [
      "/var/folders/nc/2fhlmlb174j1xg908_jm3bsw0000gn/T/ipykernel_58247/3964145612.py:8: FutureWarning: Setting an item of incompatible dtype is deprecated and will raise an error in a future version of pandas. Value '\\N' has dtype incompatible with float64, please explicitly cast to a compatible dtype first.\n",
      "  all_stats.fillna(r'\\N', inplace = True)\n"
     ]
    }
   ],
   "source": [
    "# Move player_id and season as lead columns\n",
    "all_stats.insert(0, 'player_id', all_stats.pop('player_id'))\n",
    "all_stats.insert(1, 'season', all_stats.pop('season'))\n",
    "\n",
    "# Adjusting NA's. This allows NAs to uploaded to the MySQL database\n",
    "#all_stats[all_stats.isna().any(axis=1)]\n",
    "#all_seasons_income[all_seasons_income.isna().any(axis=1)]\n",
    "all_stats.fillna(r'\\N', inplace = True)\n",
    "all_stats['player_id'] = all_stats['player_id'].astype('int64')\n",
    "all_stats.drop(columns = ['Player'], inplace = True)"
   ]
  },
  {
   "cell_type": "code",
   "execution_count": 13,
   "metadata": {},
   "outputs": [
    {
     "data": {
      "text/html": [
       "<div>\n",
       "<style scoped>\n",
       "    .dataframe tbody tr th:only-of-type {\n",
       "        vertical-align: middle;\n",
       "    }\n",
       "\n",
       "    .dataframe tbody tr th {\n",
       "        vertical-align: top;\n",
       "    }\n",
       "\n",
       "    .dataframe thead th {\n",
       "        text-align: right;\n",
       "    }\n",
       "</style>\n",
       "<table border=\"1\" class=\"dataframe\">\n",
       "  <thead>\n",
       "    <tr style=\"text-align: right;\">\n",
       "      <th></th>\n",
       "      <th>player_id</th>\n",
       "      <th>season</th>\n",
       "      <th>Pos</th>\n",
       "      <th>Age</th>\n",
       "      <th>Tm</th>\n",
       "      <th>G</th>\n",
       "      <th>GS</th>\n",
       "      <th>MP</th>\n",
       "      <th>FG</th>\n",
       "      <th>FGA</th>\n",
       "      <th>...</th>\n",
       "      <th>FT%</th>\n",
       "      <th>ORB</th>\n",
       "      <th>DRB</th>\n",
       "      <th>TRB</th>\n",
       "      <th>AST</th>\n",
       "      <th>STL</th>\n",
       "      <th>BLK</th>\n",
       "      <th>TOV</th>\n",
       "      <th>PF</th>\n",
       "      <th>PTS</th>\n",
       "    </tr>\n",
       "  </thead>\n",
       "  <tbody>\n",
       "    <tr>\n",
       "      <th>0</th>\n",
       "      <td>1</td>\n",
       "      <td>2001</td>\n",
       "      <td>PF</td>\n",
       "      <td>37</td>\n",
       "      <td>MIA</td>\n",
       "      <td>82</td>\n",
       "      <td>1</td>\n",
       "      <td>17.2</td>\n",
       "      <td>1.8</td>\n",
       "      <td>4.0</td>\n",
       "      <td>...</td>\n",
       "      <td>0.712</td>\n",
       "      <td>1.3</td>\n",
       "      <td>2.5</td>\n",
       "      <td>3.8</td>\n",
       "      <td>0.5</td>\n",
       "      <td>0.4</td>\n",
       "      <td>0.1</td>\n",
       "      <td>0.5</td>\n",
       "      <td>1.5</td>\n",
       "      <td>4.5</td>\n",
       "    </tr>\n",
       "    <tr>\n",
       "      <th>1</th>\n",
       "      <td>2230</td>\n",
       "      <td>2023</td>\n",
       "      <td>SG</td>\n",
       "      <td>23</td>\n",
       "      <td>MIL</td>\n",
       "      <td>35</td>\n",
       "      <td>1</td>\n",
       "      <td>9.9</td>\n",
       "      <td>1.5</td>\n",
       "      <td>3.6</td>\n",
       "      <td>...</td>\n",
       "      <td>1.0</td>\n",
       "      <td>0.2</td>\n",
       "      <td>1.1</td>\n",
       "      <td>1.3</td>\n",
       "      <td>0.6</td>\n",
       "      <td>0.2</td>\n",
       "      <td>0.0</td>\n",
       "      <td>0.3</td>\n",
       "      <td>0.9</td>\n",
       "      <td>4.4</td>\n",
       "    </tr>\n",
       "    <tr>\n",
       "      <th>2</th>\n",
       "      <td>2230</td>\n",
       "      <td>2024</td>\n",
       "      <td>SG</td>\n",
       "      <td>24</td>\n",
       "      <td>MIL</td>\n",
       "      <td>56</td>\n",
       "      <td>0</td>\n",
       "      <td>11.0</td>\n",
       "      <td>1.5</td>\n",
       "      <td>3.5</td>\n",
       "      <td>...</td>\n",
       "      <td>0.895</td>\n",
       "      <td>0.2</td>\n",
       "      <td>1.0</td>\n",
       "      <td>1.1</td>\n",
       "      <td>0.5</td>\n",
       "      <td>0.2</td>\n",
       "      <td>0.1</td>\n",
       "      <td>0.2</td>\n",
       "      <td>0.9</td>\n",
       "      <td>4.5</td>\n",
       "    </tr>\n",
       "    <tr>\n",
       "      <th>3</th>\n",
       "      <td>2231</td>\n",
       "      <td>2023</td>\n",
       "      <td>SF</td>\n",
       "      <td>19</td>\n",
       "      <td>ATL</td>\n",
       "      <td>72</td>\n",
       "      <td>12</td>\n",
       "      <td>19.5</td>\n",
       "      <td>3.4</td>\n",
       "      <td>7.4</td>\n",
       "      <td>...</td>\n",
       "      <td>0.894</td>\n",
       "      <td>0.5</td>\n",
       "      <td>1.6</td>\n",
       "      <td>2.1</td>\n",
       "      <td>1.0</td>\n",
       "      <td>0.6</td>\n",
       "      <td>0.2</td>\n",
       "      <td>0.6</td>\n",
       "      <td>1.2</td>\n",
       "      <td>8.9</td>\n",
       "    </tr>\n",
       "    <tr>\n",
       "      <th>4</th>\n",
       "      <td>2231</td>\n",
       "      <td>2024</td>\n",
       "      <td>SF</td>\n",
       "      <td>20</td>\n",
       "      <td>ATL</td>\n",
       "      <td>20</td>\n",
       "      <td>0</td>\n",
       "      <td>8.6</td>\n",
       "      <td>0.9</td>\n",
       "      <td>3.1</td>\n",
       "      <td>...</td>\n",
       "      <td>1.0</td>\n",
       "      <td>0.1</td>\n",
       "      <td>0.8</td>\n",
       "      <td>0.9</td>\n",
       "      <td>0.3</td>\n",
       "      <td>0.1</td>\n",
       "      <td>0.1</td>\n",
       "      <td>0.4</td>\n",
       "      <td>0.3</td>\n",
       "      <td>2.4</td>\n",
       "    </tr>\n",
       "  </tbody>\n",
       "</table>\n",
       "<p>5 rows × 30 columns</p>\n",
       "</div>"
      ],
      "text/plain": [
       "   player_id  season Pos  Age   Tm   G  GS    MP   FG  FGA  ...    FT%  ORB  \\\n",
       "0          1    2001  PF   37  MIA  82   1  17.2  1.8  4.0  ...  0.712  1.3   \n",
       "1       2230    2023  SG   23  MIL  35   1   9.9  1.5  3.6  ...    1.0  0.2   \n",
       "2       2230    2024  SG   24  MIL  56   0  11.0  1.5  3.5  ...  0.895  0.2   \n",
       "3       2231    2023  SF   19  ATL  72  12  19.5  3.4  7.4  ...  0.894  0.5   \n",
       "4       2231    2024  SF   20  ATL  20   0   8.6  0.9  3.1  ...    1.0  0.1   \n",
       "\n",
       "   DRB  TRB  AST  STL  BLK  TOV   PF  PTS  \n",
       "0  2.5  3.8  0.5  0.4  0.1  0.5  1.5  4.5  \n",
       "1  1.1  1.3  0.6  0.2  0.0  0.3  0.9  4.4  \n",
       "2  1.0  1.1  0.5  0.2  0.1  0.2  0.9  4.5  \n",
       "3  1.6  2.1  1.0  0.6  0.2  0.6  1.2  8.9  \n",
       "4  0.8  0.9  0.3  0.1  0.1  0.4  0.3  2.4  \n",
       "\n",
       "[5 rows x 30 columns]"
      ]
     },
     "metadata": {},
     "output_type": "display_data"
    },
    {
     "data": {
      "text/plain": [
       "(10658, 30)"
      ]
     },
     "metadata": {},
     "output_type": "display_data"
    },
    {
     "data": {
      "text/html": [
       "<div>\n",
       "<style scoped>\n",
       "    .dataframe tbody tr th:only-of-type {\n",
       "        vertical-align: middle;\n",
       "    }\n",
       "\n",
       "    .dataframe tbody tr th {\n",
       "        vertical-align: top;\n",
       "    }\n",
       "\n",
       "    .dataframe thead th {\n",
       "        text-align: right;\n",
       "    }\n",
       "</style>\n",
       "<table border=\"1\" class=\"dataframe\">\n",
       "  <thead>\n",
       "    <tr style=\"text-align: right;\">\n",
       "      <th></th>\n",
       "      <th>player_id</th>\n",
       "      <th>Player</th>\n",
       "    </tr>\n",
       "  </thead>\n",
       "  <tbody>\n",
       "    <tr>\n",
       "      <th>0</th>\n",
       "      <td>1</td>\n",
       "      <td>AC Green</td>\n",
       "    </tr>\n",
       "    <tr>\n",
       "      <th>1</th>\n",
       "      <td>2</td>\n",
       "      <td>AJ Guyton</td>\n",
       "    </tr>\n",
       "    <tr>\n",
       "      <th>2</th>\n",
       "      <td>3</td>\n",
       "      <td>Aaron McKie</td>\n",
       "    </tr>\n",
       "    <tr>\n",
       "      <th>3</th>\n",
       "      <td>4</td>\n",
       "      <td>Aaron Williams</td>\n",
       "    </tr>\n",
       "    <tr>\n",
       "      <th>4</th>\n",
       "      <td>5</td>\n",
       "      <td>Adam Keefe</td>\n",
       "    </tr>\n",
       "  </tbody>\n",
       "</table>\n",
       "</div>"
      ],
      "text/plain": [
       "   player_id          Player\n",
       "0          1        AC Green\n",
       "1          2       AJ Guyton\n",
       "2          3     Aaron McKie\n",
       "3          4  Aaron Williams\n",
       "4          5      Adam Keefe"
      ]
     },
     "metadata": {},
     "output_type": "display_data"
    },
    {
     "data": {
      "text/plain": [
       "(2425, 2)"
      ]
     },
     "metadata": {},
     "output_type": "display_data"
    },
    {
     "data": {
      "text/html": [
       "<div>\n",
       "<style scoped>\n",
       "    .dataframe tbody tr th:only-of-type {\n",
       "        vertical-align: middle;\n",
       "    }\n",
       "\n",
       "    .dataframe tbody tr th {\n",
       "        vertical-align: top;\n",
       "    }\n",
       "\n",
       "    .dataframe thead th {\n",
       "        text-align: right;\n",
       "    }\n",
       "</style>\n",
       "<table border=\"1\" class=\"dataframe\">\n",
       "  <thead>\n",
       "    <tr style=\"text-align: right;\">\n",
       "      <th></th>\n",
       "      <th>player_id</th>\n",
       "      <th>season</th>\n",
       "      <th>income</th>\n",
       "      <th>adj_income</th>\n",
       "    </tr>\n",
       "  </thead>\n",
       "  <tbody>\n",
       "    <tr>\n",
       "      <th>0</th>\n",
       "      <td>1</td>\n",
       "      <td>2001</td>\n",
       "      <td>2250000</td>\n",
       "      <td>3981991</td>\n",
       "    </tr>\n",
       "    <tr>\n",
       "      <th>1</th>\n",
       "      <td>2</td>\n",
       "      <td>2001</td>\n",
       "      <td>316969</td>\n",
       "      <td>560963</td>\n",
       "    </tr>\n",
       "    <tr>\n",
       "      <th>2</th>\n",
       "      <td>3</td>\n",
       "      <td>2001</td>\n",
       "      <td>1818000</td>\n",
       "      <td>3217448</td>\n",
       "    </tr>\n",
       "    <tr>\n",
       "      <th>3</th>\n",
       "      <td>4</td>\n",
       "      <td>2001</td>\n",
       "      <td>2250000</td>\n",
       "      <td>3981991</td>\n",
       "    </tr>\n",
       "    <tr>\n",
       "      <th>4</th>\n",
       "      <td>5</td>\n",
       "      <td>2001</td>\n",
       "      <td>3390000</td>\n",
       "      <td>5999533</td>\n",
       "    </tr>\n",
       "  </tbody>\n",
       "</table>\n",
       "</div>"
      ],
      "text/plain": [
       "   player_id  season   income  adj_income\n",
       "0          1    2001  2250000     3981991\n",
       "1          2    2001   316969      560963\n",
       "2          3    2001  1818000     3217448\n",
       "3          4    2001  2250000     3981991\n",
       "4          5    2001  3390000     5999533"
      ]
     },
     "metadata": {},
     "output_type": "display_data"
    },
    {
     "data": {
      "text/plain": [
       "(12198, 4)"
      ]
     },
     "metadata": {},
     "output_type": "display_data"
    }
   ],
   "source": [
    "display(all_stats.head(5), all_stats.shape)\n",
    "display(all_players_df.head(5), all_players_df.shape)\n",
    "display(all_seasons_income.head(5), all_seasons_income.shape)"
   ]
  },
  {
   "cell_type": "code",
   "execution_count": 14,
   "metadata": {},
   "outputs": [],
   "source": [
    "# Exporing data:\n",
    "all_stats.to_csv('all_player_stats.csv', index = False)\n",
    "all_seasons_income.to_csv('all_season_income.csv', index = False)\n",
    "all_players_df.to_csv('all_players_data.csv', index = False)"
   ]
  },
  {
   "attachments": {},
   "cell_type": "markdown",
   "metadata": {},
   "source": [
    "### Upload data to database"
   ]
  },
  {
   "cell_type": "code",
   "execution_count": 18,
   "metadata": {},
   "outputs": [
    {
     "name": "stdout",
     "output_type": "stream",
     "text": [
      "## Connected to database ##\n"
     ]
    }
   ],
   "source": [
    "mysql_connector = MySQLConnector(host=\"***\", user=\"***\", password=\"***\")\n",
    "mysql_connector.connect_to_db()\n",
    "mysql_connector.create_nba_db()\n",
    "mysql_connector.create_players_table()\n",
    "mysql_connector.create_income_table()\n",
    "mysql_connector.create_stats_table()"
   ]
  },
  {
   "cell_type": "code",
   "execution_count": null,
   "metadata": {},
   "outputs": [],
   "source": [
    "# Uploading data to database\n",
    "mysql_connector.load_data(os.getcwd() + '/all_players_data.csv', 'PLAYERS_TABLE')\n",
    "mysql_connector.load_data(os.getcwd() + '/all_season_income.csv', 'PER_SEASON_INCOME')\n",
    "mysql_connector.load_data(os.getcwd() + '/all_player_stats.csv', 'PER_GAME_STATS')"
   ]
  }
 ],
 "metadata": {
  "kernelspec": {
   "display_name": "Python 3",
   "language": "python",
   "name": "python3"
  },
  "language_info": {
   "codemirror_mode": {
    "name": "ipython",
    "version": 3
   },
   "file_extension": ".py",
   "mimetype": "text/x-python",
   "name": "python",
   "nbconvert_exporter": "python",
   "pygments_lexer": "ipython3",
   "version": "3.10.5"
  },
  "orig_nbformat": 4
 },
 "nbformat": 4,
 "nbformat_minor": 2
}
