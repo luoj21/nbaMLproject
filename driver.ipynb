{
 "cells": [
  {
   "cell_type": "code",
   "execution_count": 1,
   "metadata": {},
   "outputs": [],
   "source": [
    "import numpy as np\n",
    "import pandas as pd\n",
    "import matplotlib.pyplot as plt\n",
    "import matplotlib as mpl\n",
    "import seaborn as sns\n",
    "import re\n",
    "from scrape_player_data import request_stats_data, export_salary_data, export_stats_data, request_income_data, check_player_duplicates\n",
    "from setup_database import MySQLConnector\n",
    "from model import RegressionModel\n",
    "from collections import Counter"
   ]
  },
  {
   "cell_type": "code",
   "execution_count": 2,
   "metadata": {},
   "outputs": [
    {
     "name": "stdout",
     "output_type": "stream",
     "text": [
      "### EXPORTING FOR SEASON 2001 ###\n",
      "### EXPORTING FOR SEASON 2002 ###\n",
      "### EXPORTING FOR SEASON 2003 ###\n",
      "### EXPORTING FOR SEASON 2004 ###\n",
      "### EXPORTING FOR SEASON 2005 ###\n",
      "### EXPORTING FOR SEASON 2006 ###\n",
      "### EXPORTING FOR SEASON 2007 ###\n",
      "### EXPORTING FOR SEASON 2008 ###\n",
      "### EXPORTING FOR SEASON 2009 ###\n",
      "### EXPORTING FOR SEASON 2010 ###\n",
      "### EXPORTING FOR SEASON 2011 ###\n",
      "### EXPORTING FOR SEASON 2012 ###\n",
      "### EXPORTING FOR SEASON 2013 ###\n",
      "### EXPORTING FOR SEASON 2014 ###\n",
      "['Tony Mitchell']\n",
      "### EXPORTING FOR SEASON 2015 ###\n",
      "### EXPORTING FOR SEASON 2016 ###\n",
      "### EXPORTING FOR SEASON 2017 ###\n",
      "### EXPORTING FOR SEASON 2018 ###\n",
      "### EXPORTING FOR SEASON 2019 ###\n",
      "### EXPORTING FOR SEASON 2020 ###\n",
      "### EXPORTING FOR SEASON 2021 ###\n",
      "### EXPORTING FOR SEASON 2022 ###\n",
      "### EXPORTING FOR SEASON 2023 ###\n",
      "### EXPORTING FOR SEASON 2024 ###\n"
     ]
    }
   ],
   "source": [
    "for i in range(2001, 2025):\n",
    "    print(f'### EXPORTING FOR SEASON {i} ###')\n",
    "    export_salary_data(i)\n",
    "    export_stats_data(i)\n",
    "\n",
    "    dat = pd.read_csv(f'player_season_income/{i}_income_data.csv')\n",
    "    check_player_duplicates(df = dat)\n"
   ]
  },
  {
   "cell_type": "code",
   "execution_count": 3,
   "metadata": {},
   "outputs": [],
   "source": [
    "# Dropping only duplicate that comes from export\n",
    "dat = pd.read_csv(f'player_season_income/2014_income_data.csv')\n",
    "TM_index = dat.index[dat['Player'] == \"Tony Mitchell\"].tolist()\n",
    "dat.drop(max(TM_index), inplace = True)\n",
    "\n",
    "check_player_duplicates(dat)"
   ]
  },
  {
   "attachments": {},
   "cell_type": "markdown",
   "metadata": {},
   "source": [
    "### Data pre-processing"
   ]
  },
  {
   "cell_type": "code",
   "execution_count": 4,
   "metadata": {},
   "outputs": [],
   "source": [
    "dfs = []\n",
    "for year in range(2001, 2025):\n",
    "    df = pd.read_csv(f'player_season_income/{year}_income_data.csv')\n",
    "    dfs.append(df)\n",
    "\n",
    "all_seasons_income = pd.concat(dfs)\n",
    "\n",
    "# Removes special characters except space (' ')\n",
    "def remove_special_characters(text):\n",
    "    return re.sub(r'[^\\w\\s]', '', text)\n",
    "\n",
    "all_seasons_income['Player'] = all_seasons_income['Player'].apply(remove_special_characters)"
   ]
  },
  {
   "cell_type": "code",
   "execution_count": 5,
   "metadata": {},
   "outputs": [],
   "source": [
    "# Assigning a player_id to each unique player in all the data\n",
    "all_players = pd.unique(all_seasons_income['Player'])\n",
    "\n",
    "players_dict = {key: None for key in all_players}\n",
    "\n",
    "for i in range(0, len(players_dict)):\n",
    "    players_dict[all_players[i]] = i + 1\n",
    "\n",
    "# Maps unique id\n",
    "all_seasons_income['player_id'] = all_seasons_income['Player'].map(players_dict)\n",
    "\n",
    "del dfs"
   ]
  },
  {
   "cell_type": "code",
   "execution_count": 6,
   "metadata": {},
   "outputs": [
    {
     "name": "stdout",
     "output_type": "stream",
     "text": [
      "Left out players:  ['Adonis Thomas', 'Aleksandar RadojeviÄ', 'Alen SmailagiÄ', 'Alexis AjinÃa', 'Anderson VarejÃo', 'Andris BiedriÅÅ', 'AndrÃs Nocioni', 'Andy Panko', 'Ante Å½iÅ¾iÄ', 'Anthony Grundy', 'Antoine Rigaudeau', 'AnÅ¾ejs PaseÄÅiks', 'Boban MarjanoviÄ', 'Bogdan BogdanoviÄ', 'Bojan BogdanoviÄ', 'BoÅtjan Nachbar', 'Brandin Knight', 'Brandon Boston Jr', 'Bruno Å\\xa0undov', 'Byron Mullens', 'Cam Whitmore', 'Cameron Reynolds', 'Cat Barber', 'Cezary TrybaÅski', 'Chance Comanche', 'Charlie Brown Jr', 'Chaundee Brown Jr', 'Chris Garner', 'Chucky Brown', 'Craig Porter Jr', 'Cristiano FelÃcio', 'DJ Mbenga', 'Dairis BertÄns', 'Dalibor BagariÄ', 'Damjan RudeÅ¾', 'Dan McClintock', 'Danuel House Jr', 'Dario Å\\xa0ariÄ', 'Darko MiliÄiÄ', 'David Duke Jr', 'David Vanterpool', 'Dennis SchrÃder', 'Dennis Smith Jr', 'Dereck Lively II', 'Derrick Byars', 'Derrick Jones Jr', 'Derrick Zimmerman', 'Desmond Ferguson', 'Desmond Penigar', 'Devon Hall', 'Dmytro Skapintsev', 'Donatas MotiejÅnas', 'Donny Marshall', 'Dontell Jefferson', 'DontÃ Greene', 'Dragan TarlaÄ', 'DÄvis BertÄns', 'DÅ¾anan Musa', 'Eduardo NÃjera', 'Edwin Ubiles', 'Edy Tavares', 'Enes Freedom', 'Eric Dawson', 'Eric Mika', 'Ersan Älyasova', 'Eugene Jeter', 'Felipe LÃ³pez', 'Filip PetruÅev', 'Francisco GarcÃa', 'Frank Mason III', 'GG Jackson II', 'Goran DragiÄ', 'Gordan GiriÄek', 'Greg Brown III', 'Greivis VÃsquez', 'Guillermo DÃaz', 'Gustavo AyÃ³n', 'Hanno MÃttÃlÃ', 'Hedo TÃ¼rkoÄlu', 'Herbert Jones', 'Hiram Fuller', 'Igor RakoÄeviÄ', 'Ira Bowman', 'Isaac Fontaine', 'Ish Smith', 'Ish Wainright', 'JJ Barea', 'Jabari Smith Jr', 'Jaime Jaquez Jr', 'Jake Tsakalidis', 'Jamel Thomas', 'James Ennis III', 'James Webb III', 'Jan VeselÃ½', 'Jaren Jackson', 'Javonte Smart', 'Jeff Taylor', 'Jerome Dyson', 'Jerrelle Benimon', 'Jerry Smith', 'JiÅÃ Welsch', 'Joe Crawford', 'Joe Young', 'John Coker', 'John Lucas III', 'Jonas ValanÄiÅnas', 'Jorge GutiÃrrez', 'Joshua Primo', 'JosÃ CalderÃ³n', 'Juancho HernangÃ³mez', 'Jusuf NurkiÄ', 'JÃrÃme MoÃso', 'Karim ManÃ', 'Kasib Powell', 'Kelly Oubre Jr', 'Kenneth Lofton Jr', 'Kevin Porter Jr', 'Kevin SÃraphin', 'Kevinn Pinkney', 'Kira Lewis Jr', 'Kirk Penney', 'KornÃl DÃvid', 'Kosta PeroviÄ', 'Kristaps PorziÅÄis', 'Lance Allred', 'Lonnie Walker IV', 'Lou Amundson', 'Lou Williams', 'Luka DonÄiÄ', 'Luka Å\\xa0amaniÄ', 'Mamadou NDiaye', 'Manu GinÃ³bili', 'Marcus Cousin', 'Mark Jones', 'Marko GuduriÄ', 'Marko JariÄ', 'Martynas AndriuÅkeviÄius', 'Marvin Bagley III', 'Maurice Baker', 'Maurice Carter', 'Maurice Harkless', 'McKinley Wright IV', 'Michael Foster Jr', 'Michael Porter Jr', 'MickaÃl Gelabale', 'MickaÃl PiÃtrus', 'Mile IliÄ', 'MiloÅ TeodosiÄ', 'Mirza TeletoviÄ', 'Mo Williams', 'Mouhamed Sene', 'Moussa DiabatÃ', 'MÃozinha Pereira', 'Naz MitrouLong', 'Nemanja NedoviÄ', 'Nenad KrstiÄ', 'NenÃª', 'Nic Claxton', 'Nick Smith Jr', 'NicolÃs Brussino', 'NicolÃs LaprovÃttola', 'NicolÃ² Melli', 'Nikola JokiÄ', 'Nikola JoviÄ', 'Nikola MirotiÄ', 'Nikola PekoviÄ', 'Nikola VuÄeviÄ', 'Noel Felix', 'Ognjen KuzmiÄ', 'Oliver Lafayette', 'Otto Porter Jr', 'Patrick Baldwin Jr', 'Patrick Christopher', 'Patty Mills', 'Peja StojakoviÄ', 'Pepe SÃnchez', 'Pero AntiÄ', 'Predrag SavoviÄ', 'PrimoÅ¾ Brezec', 'RJ Nembhard Jr', 'Rafael AraÃºjo', 'Randy Livingston', 'Rasho NesteroviÄ', 'Ray Spalding', 'RaÃ¼l LÃ³pez', 'Ricky Council IV', 'Robert Franks', 'Robert Woodard II', 'Roko UkiÄ', 'RubÃn GarcÃs', 'RubÃn Wolkowyski', 'Rudy FernÃndez', 'Rusty LaRue', 'Santi Aldama', 'Sasha PavloviÄ', 'Sasha VujaÄiÄ', 'Scott Burrell', 'Scotty Pippen Jr', 'Sean Colson', 'Sergei Monia', 'Sergio RodrÃguez', 'Shamorie Ponds', 'Skal LabissiÃre', 'Slavko VraneÅ', 'Stanton Kidd', 'StÃphane Lasme', 'Svi Mykhailiuk', 'ThÃo Maledon', 'Tibor PleiÃ', 'TimothÃ LuwawuCabarrot', 'TomÃÅ SatoranskÃ½', 'Toni KukoÄ', 'Tony Smith', 'Trey Gilder', 'Trey Murphy III', 'Troy Brown Jr', 'TyTy Washington Jr', 'UroÅ Slokar', 'Vasilije MiciÄ', 'Vernon Carey Jr', 'Viacheslav Kravtsov', 'Vince Edwards', 'Vladimir RadmanoviÄ', 'Vlatko ÄanÄar', 'VÃtor Luiz Faverani', 'Walt Lemon Jr', 'Wendell Carter Jr', 'Wendell Moore Jr', 'Wes Iwundu', 'Will Solomon', 'Willy HernangÃ³mez', 'Xavier RathanMayes', 'Xavier Tillman Sr', 'Zach Norvell', 'Zoran DragiÄ', 'Zoran PlaniniÄ', 'Ãlex Abrines', 'Ãmer AÅÄk', 'Ãngel Delgado', 'Ãscar Torres', 'Å\\xa0arÅnas JasikeviÄius', 'Å½an Tabak', 'Å½arko Äabarkapa', 'Å½eljko RebraÄa']\n"
     ]
    }
   ],
   "source": [
    "# Stats data\n",
    "dfs = []\n",
    "for year in range(2001, 2025):\n",
    "    df = pd.read_csv(f'per_game_stats_data/{year}_player_data.csv')\n",
    "    dfs.append(df)\n",
    "\n",
    "all_stats = pd.concat(dfs)\n",
    "all_stats['Player'] = all_stats['Player'].apply(remove_special_characters)\n",
    "print('Left out players: ', sorted(set(all_stats['Player']) - set(all_seasons_income['Player'])))\n",
    "\n",
    "# Maps unique id and drops rows that didn't get assigned an player_id\n",
    "all_stats['player_id'] = all_stats['Player'].map(players_dict)\n",
    "all_stats.dropna(subset=['player_id'], inplace = True)\n",
    "#all_stats = all_stats.astype({'3P%': 'float64', '2P%': 'float64', 'eFG%': 'float64', 'FG%': 'float64', 'FT%': 'float64'})"
   ]
  },
  {
   "cell_type": "code",
   "execution_count": 7,
   "metadata": {},
   "outputs": [],
   "source": [
    "# Keeps track of (season, player_id) pairs that played for multiple teams (ie players that played for more than 1 team in 1 season)\n",
    "\n",
    "multiple_teams_CPK = list(all_stats[all_stats.duplicated(subset = ['Player', 'season'], keep = False)][['season', 'player_id']].groupby(['season', 'player_id']).groups)\n",
    "#all_stats[(all_stats['player_id'] == 23) & (all_stats['season'] == 2001)]"
   ]
  },
  {
   "cell_type": "code",
   "execution_count": 8,
   "metadata": {},
   "outputs": [],
   "source": [
    "agg_functions = {key: None for key in all_stats.columns}\n",
    "del agg_functions['Player']\n",
    "del agg_functions['season']\n",
    "agg_functions.update(dict.fromkeys(['Pos', 'player_id', 'Age', 'Tm'], 'first'))\n",
    "agg_functions.update(dict.fromkeys(['G', 'GS'], 'sum'))\n",
    "agg_functions.update(dict.fromkeys(['MP', 'FG', 'FGA', 'FG%', '3P',\n",
    "       '3PA', '3P%', '2P', '2PA', '2P%', 'eFG%', 'FT', 'FTA', 'FT%', 'ORB',\n",
    "       'DRB', 'TRB', 'AST', 'STL', 'BLK', 'TOV', 'PF', 'PTS'], 'mean'))"
   ]
  },
  {
   "cell_type": "code",
   "execution_count": 9,
   "metadata": {},
   "outputs": [],
   "source": [
    "all_stats = all_stats.groupby(['Player', 'season']).aggregate(agg_functions).reset_index()\n",
    "\n",
    "for index, row in all_stats.iterrows():\n",
    "    if (row['season'], row['player_id']) in multiple_teams_CPK:\n",
    "        all_stats.loc[index, 'Tm'] = 'TOT'"
   ]
  },
  {
   "cell_type": "code",
   "execution_count": 11,
   "metadata": {},
   "outputs": [],
   "source": [
    "# Exporing data:\n",
    "all_stats.to_csv('all_player_stats.csv', index = False)\n",
    "all_seasons_income.to_csv('all_season_income.csv', index = False)"
   ]
  }
 ],
 "metadata": {
  "kernelspec": {
   "display_name": "Python 3",
   "language": "python",
   "name": "python3"
  },
  "language_info": {
   "codemirror_mode": {
    "name": "ipython",
    "version": 3
   },
   "file_extension": ".py",
   "mimetype": "text/x-python",
   "name": "python",
   "nbconvert_exporter": "python",
   "pygments_lexer": "ipython3",
   "version": "3.10.5"
  },
  "orig_nbformat": 4
 },
 "nbformat": 4,
 "nbformat_minor": 2
}
